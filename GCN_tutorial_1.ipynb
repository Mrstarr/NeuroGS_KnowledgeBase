{
  "nbformat": 4,
  "nbformat_minor": 0,
  "metadata": {
    "colab": {
      "name": "GCN_tutorial_1.ipynb",
      "provenance": [],
      "collapsed_sections": []
    },
    "kernelspec": {
      "name": "python3",
      "display_name": "Python 3"
    },
    "language_info": {
      "name": "python"
    },
    "accelerator": "GPU"
  },
  "cells": [
    {
      "cell_type": "code",
      "metadata": {
        "colab": {
          "base_uri": "https://localhost:8080/"
        },
        "id": "eMDhB0q70X0q",
        "outputId": "d26fd712-32da-4e73-f66b-a4ef763737c1"
      },
      "source": [
        "!pip install numpy\n",
        "!pip install tensorflow\n",
        "!pip install spektral\n",
        "\n",
        "import numpy as np\n",
        "import tensorflow as tf\n",
        "import spektral"
      ],
      "execution_count": 3,
      "outputs": [
        {
          "output_type": "stream",
          "name": "stdout",
          "text": [
            "Requirement already satisfied: numpy in /usr/local/lib/python3.7/dist-packages (1.19.5)\n",
            "Requirement already satisfied: tensorflow in /usr/local/lib/python3.7/dist-packages (2.6.0)\n",
            "Requirement already satisfied: keras~=2.6 in /usr/local/lib/python3.7/dist-packages (from tensorflow) (2.6.0)\n",
            "Requirement already satisfied: tensorflow-estimator~=2.6 in /usr/local/lib/python3.7/dist-packages (from tensorflow) (2.6.0)\n",
            "Requirement already satisfied: flatbuffers~=1.12.0 in /usr/local/lib/python3.7/dist-packages (from tensorflow) (1.12)\n",
            "Requirement already satisfied: gast==0.4.0 in /usr/local/lib/python3.7/dist-packages (from tensorflow) (0.4.0)\n",
            "Requirement already satisfied: astunparse~=1.6.3 in /usr/local/lib/python3.7/dist-packages (from tensorflow) (1.6.3)\n",
            "Requirement already satisfied: wheel~=0.35 in /usr/local/lib/python3.7/dist-packages (from tensorflow) (0.37.0)\n",
            "Requirement already satisfied: clang~=5.0 in /usr/local/lib/python3.7/dist-packages (from tensorflow) (5.0)\n",
            "Requirement already satisfied: numpy~=1.19.2 in /usr/local/lib/python3.7/dist-packages (from tensorflow) (1.19.5)\n",
            "Requirement already satisfied: protobuf>=3.9.2 in /usr/local/lib/python3.7/dist-packages (from tensorflow) (3.17.3)\n",
            "Requirement already satisfied: absl-py~=0.10 in /usr/local/lib/python3.7/dist-packages (from tensorflow) (0.12.0)\n",
            "Requirement already satisfied: h5py~=3.1.0 in /usr/local/lib/python3.7/dist-packages (from tensorflow) (3.1.0)\n",
            "Requirement already satisfied: opt-einsum~=3.3.0 in /usr/local/lib/python3.7/dist-packages (from tensorflow) (3.3.0)\n",
            "Requirement already satisfied: typing-extensions~=3.7.4 in /usr/local/lib/python3.7/dist-packages (from tensorflow) (3.7.4.3)\n",
            "Requirement already satisfied: six~=1.15.0 in /usr/local/lib/python3.7/dist-packages (from tensorflow) (1.15.0)\n",
            "Requirement already satisfied: tensorboard~=2.6 in /usr/local/lib/python3.7/dist-packages (from tensorflow) (2.6.0)\n",
            "Requirement already satisfied: grpcio<2.0,>=1.37.0 in /usr/local/lib/python3.7/dist-packages (from tensorflow) (1.41.0)\n",
            "Requirement already satisfied: termcolor~=1.1.0 in /usr/local/lib/python3.7/dist-packages (from tensorflow) (1.1.0)\n",
            "Requirement already satisfied: wrapt~=1.12.1 in /usr/local/lib/python3.7/dist-packages (from tensorflow) (1.12.1)\n",
            "Requirement already satisfied: keras-preprocessing~=1.1.2 in /usr/local/lib/python3.7/dist-packages (from tensorflow) (1.1.2)\n",
            "Requirement already satisfied: google-pasta~=0.2 in /usr/local/lib/python3.7/dist-packages (from tensorflow) (0.2.0)\n",
            "Requirement already satisfied: cached-property in /usr/local/lib/python3.7/dist-packages (from h5py~=3.1.0->tensorflow) (1.5.2)\n",
            "Requirement already satisfied: tensorboard-plugin-wit>=1.6.0 in /usr/local/lib/python3.7/dist-packages (from tensorboard~=2.6->tensorflow) (1.8.0)\n",
            "Requirement already satisfied: werkzeug>=0.11.15 in /usr/local/lib/python3.7/dist-packages (from tensorboard~=2.6->tensorflow) (1.0.1)\n",
            "Requirement already satisfied: setuptools>=41.0.0 in /usr/local/lib/python3.7/dist-packages (from tensorboard~=2.6->tensorflow) (57.4.0)\n",
            "Requirement already satisfied: markdown>=2.6.8 in /usr/local/lib/python3.7/dist-packages (from tensorboard~=2.6->tensorflow) (3.3.4)\n",
            "Requirement already satisfied: tensorboard-data-server<0.7.0,>=0.6.0 in /usr/local/lib/python3.7/dist-packages (from tensorboard~=2.6->tensorflow) (0.6.1)\n",
            "Requirement already satisfied: google-auth-oauthlib<0.5,>=0.4.1 in /usr/local/lib/python3.7/dist-packages (from tensorboard~=2.6->tensorflow) (0.4.6)\n",
            "Requirement already satisfied: google-auth<2,>=1.6.3 in /usr/local/lib/python3.7/dist-packages (from tensorboard~=2.6->tensorflow) (1.35.0)\n",
            "Requirement already satisfied: requests<3,>=2.21.0 in /usr/local/lib/python3.7/dist-packages (from tensorboard~=2.6->tensorflow) (2.23.0)\n",
            "Requirement already satisfied: cachetools<5.0,>=2.0.0 in /usr/local/lib/python3.7/dist-packages (from google-auth<2,>=1.6.3->tensorboard~=2.6->tensorflow) (4.2.4)\n",
            "Requirement already satisfied: rsa<5,>=3.1.4 in /usr/local/lib/python3.7/dist-packages (from google-auth<2,>=1.6.3->tensorboard~=2.6->tensorflow) (4.7.2)\n",
            "Requirement already satisfied: pyasn1-modules>=0.2.1 in /usr/local/lib/python3.7/dist-packages (from google-auth<2,>=1.6.3->tensorboard~=2.6->tensorflow) (0.2.8)\n",
            "Requirement already satisfied: requests-oauthlib>=0.7.0 in /usr/local/lib/python3.7/dist-packages (from google-auth-oauthlib<0.5,>=0.4.1->tensorboard~=2.6->tensorflow) (1.3.0)\n",
            "Requirement already satisfied: importlib-metadata in /usr/local/lib/python3.7/dist-packages (from markdown>=2.6.8->tensorboard~=2.6->tensorflow) (4.8.1)\n",
            "Requirement already satisfied: pyasn1<0.5.0,>=0.4.6 in /usr/local/lib/python3.7/dist-packages (from pyasn1-modules>=0.2.1->google-auth<2,>=1.6.3->tensorboard~=2.6->tensorflow) (0.4.8)\n",
            "Requirement already satisfied: chardet<4,>=3.0.2 in /usr/local/lib/python3.7/dist-packages (from requests<3,>=2.21.0->tensorboard~=2.6->tensorflow) (3.0.4)\n",
            "Requirement already satisfied: idna<3,>=2.5 in /usr/local/lib/python3.7/dist-packages (from requests<3,>=2.21.0->tensorboard~=2.6->tensorflow) (2.10)\n",
            "Requirement already satisfied: urllib3!=1.25.0,!=1.25.1,<1.26,>=1.21.1 in /usr/local/lib/python3.7/dist-packages (from requests<3,>=2.21.0->tensorboard~=2.6->tensorflow) (1.24.3)\n",
            "Requirement already satisfied: certifi>=2017.4.17 in /usr/local/lib/python3.7/dist-packages (from requests<3,>=2.21.0->tensorboard~=2.6->tensorflow) (2021.5.30)\n",
            "Requirement already satisfied: oauthlib>=3.0.0 in /usr/local/lib/python3.7/dist-packages (from requests-oauthlib>=0.7.0->google-auth-oauthlib<0.5,>=0.4.1->tensorboard~=2.6->tensorflow) (3.1.1)\n",
            "Requirement already satisfied: zipp>=0.5 in /usr/local/lib/python3.7/dist-packages (from importlib-metadata->markdown>=2.6.8->tensorboard~=2.6->tensorflow) (3.6.0)\n",
            "Collecting spektral\n",
            "  Downloading spektral-1.0.8-py3-none-any.whl (123 kB)\n",
            "\u001b[K     |████████████████████████████████| 123 kB 15.7 MB/s \n",
            "\u001b[?25hRequirement already satisfied: tensorflow>=2.1.0 in /usr/local/lib/python3.7/dist-packages (from spektral) (2.6.0)\n",
            "Requirement already satisfied: joblib in /usr/local/lib/python3.7/dist-packages (from spektral) (1.0.1)\n",
            "Requirement already satisfied: numpy<1.20 in /usr/local/lib/python3.7/dist-packages (from spektral) (1.19.5)\n",
            "Requirement already satisfied: scikit-learn in /usr/local/lib/python3.7/dist-packages (from spektral) (0.22.2.post1)\n",
            "Requirement already satisfied: lxml in /usr/local/lib/python3.7/dist-packages (from spektral) (4.2.6)\n",
            "Requirement already satisfied: tqdm in /usr/local/lib/python3.7/dist-packages (from spektral) (4.62.3)\n",
            "Requirement already satisfied: scipy in /usr/local/lib/python3.7/dist-packages (from spektral) (1.4.1)\n",
            "Requirement already satisfied: pandas in /usr/local/lib/python3.7/dist-packages (from spektral) (1.1.5)\n",
            "Requirement already satisfied: requests in /usr/local/lib/python3.7/dist-packages (from spektral) (2.23.0)\n",
            "Requirement already satisfied: networkx in /usr/local/lib/python3.7/dist-packages (from spektral) (2.6.3)\n",
            "Requirement already satisfied: keras-preprocessing~=1.1.2 in /usr/local/lib/python3.7/dist-packages (from tensorflow>=2.1.0->spektral) (1.1.2)\n",
            "Requirement already satisfied: typing-extensions~=3.7.4 in /usr/local/lib/python3.7/dist-packages (from tensorflow>=2.1.0->spektral) (3.7.4.3)\n",
            "Requirement already satisfied: wheel~=0.35 in /usr/local/lib/python3.7/dist-packages (from tensorflow>=2.1.0->spektral) (0.37.0)\n",
            "Requirement already satisfied: astunparse~=1.6.3 in /usr/local/lib/python3.7/dist-packages (from tensorflow>=2.1.0->spektral) (1.6.3)\n",
            "Requirement already satisfied: tensorboard~=2.6 in /usr/local/lib/python3.7/dist-packages (from tensorflow>=2.1.0->spektral) (2.6.0)\n",
            "Requirement already satisfied: six~=1.15.0 in /usr/local/lib/python3.7/dist-packages (from tensorflow>=2.1.0->spektral) (1.15.0)\n",
            "Requirement already satisfied: google-pasta~=0.2 in /usr/local/lib/python3.7/dist-packages (from tensorflow>=2.1.0->spektral) (0.2.0)\n",
            "Requirement already satisfied: termcolor~=1.1.0 in /usr/local/lib/python3.7/dist-packages (from tensorflow>=2.1.0->spektral) (1.1.0)\n",
            "Requirement already satisfied: flatbuffers~=1.12.0 in /usr/local/lib/python3.7/dist-packages (from tensorflow>=2.1.0->spektral) (1.12)\n",
            "Requirement already satisfied: opt-einsum~=3.3.0 in /usr/local/lib/python3.7/dist-packages (from tensorflow>=2.1.0->spektral) (3.3.0)\n",
            "Requirement already satisfied: gast==0.4.0 in /usr/local/lib/python3.7/dist-packages (from tensorflow>=2.1.0->spektral) (0.4.0)\n",
            "Requirement already satisfied: keras~=2.6 in /usr/local/lib/python3.7/dist-packages (from tensorflow>=2.1.0->spektral) (2.6.0)\n",
            "Requirement already satisfied: grpcio<2.0,>=1.37.0 in /usr/local/lib/python3.7/dist-packages (from tensorflow>=2.1.0->spektral) (1.41.0)\n",
            "Requirement already satisfied: tensorflow-estimator~=2.6 in /usr/local/lib/python3.7/dist-packages (from tensorflow>=2.1.0->spektral) (2.6.0)\n",
            "Requirement already satisfied: clang~=5.0 in /usr/local/lib/python3.7/dist-packages (from tensorflow>=2.1.0->spektral) (5.0)\n",
            "Requirement already satisfied: h5py~=3.1.0 in /usr/local/lib/python3.7/dist-packages (from tensorflow>=2.1.0->spektral) (3.1.0)\n",
            "Requirement already satisfied: protobuf>=3.9.2 in /usr/local/lib/python3.7/dist-packages (from tensorflow>=2.1.0->spektral) (3.17.3)\n",
            "Requirement already satisfied: absl-py~=0.10 in /usr/local/lib/python3.7/dist-packages (from tensorflow>=2.1.0->spektral) (0.12.0)\n",
            "Requirement already satisfied: wrapt~=1.12.1 in /usr/local/lib/python3.7/dist-packages (from tensorflow>=2.1.0->spektral) (1.12.1)\n",
            "Requirement already satisfied: cached-property in /usr/local/lib/python3.7/dist-packages (from h5py~=3.1.0->tensorflow>=2.1.0->spektral) (1.5.2)\n",
            "Requirement already satisfied: google-auth<2,>=1.6.3 in /usr/local/lib/python3.7/dist-packages (from tensorboard~=2.6->tensorflow>=2.1.0->spektral) (1.35.0)\n",
            "Requirement already satisfied: google-auth-oauthlib<0.5,>=0.4.1 in /usr/local/lib/python3.7/dist-packages (from tensorboard~=2.6->tensorflow>=2.1.0->spektral) (0.4.6)\n",
            "Requirement already satisfied: markdown>=2.6.8 in /usr/local/lib/python3.7/dist-packages (from tensorboard~=2.6->tensorflow>=2.1.0->spektral) (3.3.4)\n",
            "Requirement already satisfied: werkzeug>=0.11.15 in /usr/local/lib/python3.7/dist-packages (from tensorboard~=2.6->tensorflow>=2.1.0->spektral) (1.0.1)\n",
            "Requirement already satisfied: tensorboard-data-server<0.7.0,>=0.6.0 in /usr/local/lib/python3.7/dist-packages (from tensorboard~=2.6->tensorflow>=2.1.0->spektral) (0.6.1)\n",
            "Requirement already satisfied: tensorboard-plugin-wit>=1.6.0 in /usr/local/lib/python3.7/dist-packages (from tensorboard~=2.6->tensorflow>=2.1.0->spektral) (1.8.0)\n",
            "Requirement already satisfied: setuptools>=41.0.0 in /usr/local/lib/python3.7/dist-packages (from tensorboard~=2.6->tensorflow>=2.1.0->spektral) (57.4.0)\n",
            "Requirement already satisfied: cachetools<5.0,>=2.0.0 in /usr/local/lib/python3.7/dist-packages (from google-auth<2,>=1.6.3->tensorboard~=2.6->tensorflow>=2.1.0->spektral) (4.2.4)\n",
            "Requirement already satisfied: rsa<5,>=3.1.4 in /usr/local/lib/python3.7/dist-packages (from google-auth<2,>=1.6.3->tensorboard~=2.6->tensorflow>=2.1.0->spektral) (4.7.2)\n",
            "Requirement already satisfied: pyasn1-modules>=0.2.1 in /usr/local/lib/python3.7/dist-packages (from google-auth<2,>=1.6.3->tensorboard~=2.6->tensorflow>=2.1.0->spektral) (0.2.8)\n",
            "Requirement already satisfied: requests-oauthlib>=0.7.0 in /usr/local/lib/python3.7/dist-packages (from google-auth-oauthlib<0.5,>=0.4.1->tensorboard~=2.6->tensorflow>=2.1.0->spektral) (1.3.0)\n",
            "Requirement already satisfied: importlib-metadata in /usr/local/lib/python3.7/dist-packages (from markdown>=2.6.8->tensorboard~=2.6->tensorflow>=2.1.0->spektral) (4.8.1)\n",
            "Requirement already satisfied: pyasn1<0.5.0,>=0.4.6 in /usr/local/lib/python3.7/dist-packages (from pyasn1-modules>=0.2.1->google-auth<2,>=1.6.3->tensorboard~=2.6->tensorflow>=2.1.0->spektral) (0.4.8)\n",
            "Requirement already satisfied: idna<3,>=2.5 in /usr/local/lib/python3.7/dist-packages (from requests->spektral) (2.10)\n",
            "Requirement already satisfied: chardet<4,>=3.0.2 in /usr/local/lib/python3.7/dist-packages (from requests->spektral) (3.0.4)\n",
            "Requirement already satisfied: urllib3!=1.25.0,!=1.25.1,<1.26,>=1.21.1 in /usr/local/lib/python3.7/dist-packages (from requests->spektral) (1.24.3)\n",
            "Requirement already satisfied: certifi>=2017.4.17 in /usr/local/lib/python3.7/dist-packages (from requests->spektral) (2021.5.30)\n",
            "Requirement already satisfied: oauthlib>=3.0.0 in /usr/local/lib/python3.7/dist-packages (from requests-oauthlib>=0.7.0->google-auth-oauthlib<0.5,>=0.4.1->tensorboard~=2.6->tensorflow>=2.1.0->spektral) (3.1.1)\n",
            "Requirement already satisfied: zipp>=0.5 in /usr/local/lib/python3.7/dist-packages (from importlib-metadata->markdown>=2.6.8->tensorboard~=2.6->tensorflow>=2.1.0->spektral) (3.6.0)\n",
            "Requirement already satisfied: python-dateutil>=2.7.3 in /usr/local/lib/python3.7/dist-packages (from pandas->spektral) (2.8.2)\n",
            "Requirement already satisfied: pytz>=2017.2 in /usr/local/lib/python3.7/dist-packages (from pandas->spektral) (2018.9)\n",
            "Installing collected packages: spektral\n",
            "Successfully installed spektral-1.0.8\n"
          ]
        }
      ]
    },
    {
      "cell_type": "code",
      "metadata": {
        "colab": {
          "base_uri": "https://localhost:8080/"
        },
        "id": "D6_mBdoq0lQM",
        "outputId": "728455f0-2108-475c-ae71-42e6ed4f0684"
      },
      "source": [
        "#adj, features, labels, train_mask, val_mask, test_mask \n",
        "\n",
        "cora= spektral.datasets.citation.Citation(name='cora', dtype='float32') \n",
        "graph = cora[0]\n",
        "\n",
        "train_mask, val_mask, test_mask = cora.mask_tr, cora.mask_va, cora.mask_te\n",
        "features, adj, labels = graph.x, graph.a, graph.y\n",
        "#features = features.todense()\n",
        "adj = adj + np.eye(adj.shape[0])\n",
        "features = features.astype('float32')\n",
        "adj = adj.astype('float32')\n",
        "\n",
        "print(features.shape)\n",
        "print(adj.shape)\n",
        "print(labels.shape)\n",
        "\n",
        "print(np.sum(train_mask))\n",
        "print(np.sum(val_mask))\n",
        "print(np.sum(test_mask))\n"
      ],
      "execution_count": 4,
      "outputs": [
        {
          "output_type": "stream",
          "name": "stdout",
          "text": [
            "Downloading cora dataset.\n",
            "(2708, 1433)\n",
            "(2708, 2708)\n",
            "(2708, 7)\n",
            "140\n",
            "500\n",
            "1000\n"
          ]
        },
        {
          "output_type": "stream",
          "name": "stderr",
          "text": [
            "/usr/local/lib/python3.7/dist-packages/scipy/sparse/_index.py:126: SparseEfficiencyWarning: Changing the sparsity structure of a csr_matrix is expensive. lil_matrix is more efficient.\n",
            "  self._set_arrayXarray(i, j, x)\n"
          ]
        }
      ]
    },
    {
      "cell_type": "code",
      "metadata": {
        "id": "SPt2oxBa5H9y"
      },
      "source": [
        "def masked_softmax_cross_entropy(logits, labels, mask):\n",
        "  loss = tf.nn.softmax_cross_entropy_with_logits(logits=logits, labels=labels)  # Computes softmax cross entropy between logits and labels\n",
        "  mask = tf.cast(mask, dtype=tf.float32)   # Casts a tensor to a new type\n",
        "  mask /= tf.reduce_mean(mask)       # reduce_mean: Computes the mean of elements across dimensions of a tensor.\n",
        "  loss *= mask\n",
        "  return tf.reduce_mean(loss)\n",
        "\n",
        "def masked_accuracy(logits, labels, mask):\n",
        "  correct_prediction = tf.equal(tf.argmax(logits, 1), tf.argmax(labels, 1))  #  Returns the truth value of (x == y) element-wise\n",
        "  accuracy_all = tf.cast(correct_prediction, tf.float32)\n",
        "  mask = tf.cast(mask, dtype=tf.float32)\n",
        "  mask /= tf.reduce_mean(mask)\n",
        "  accuracy_all *= mask \n",
        "  return tf.reduce_mean(accuracy_all) "
      ],
      "execution_count": 5,
      "outputs": []
    },
    {
      "cell_type": "code",
      "metadata": {
        "id": "2Spt1rpf7tfJ"
      },
      "source": [
        "def gnn(fts, adj, transform, activation):\n",
        "  seq_fts = transform(fts)\n",
        "  ret_fts = tf.matmul(adj, seq_fts)   # Multiplies matrix a by matrix b, producing a * b\n",
        "  return activation(ret_fts)"
      ],
      "execution_count": 6,
      "outputs": []
    },
    {
      "cell_type": "code",
      "metadata": {
        "id": "Pi294XQX8Ftg"
      },
      "source": [
        "def train_cora(fts, adj, gnn_fn, units, epochs, lr):\n",
        "  lyr_1 = tf.keras.layers.Dense(units)  # a regular densely-connected NN layer\n",
        "  lyr_2 = tf.keras.layers.Dense(7)\n",
        "\n",
        "  def cora_gnn(fts, adj):\n",
        "    hidden = gnn_fn(fts, adj, lyr_1, tf.nn.relu)\n",
        "    logits = gnn_fn(hidden, adj, lyr_2, tf.nn.relu)\n",
        "    return logits\n",
        "  \n",
        "  optimizer = tf.keras.optimizers.Adam(learning_rate=lr)\n",
        "\n",
        "  best_accuracy = 0.0\n",
        "  for ep in range(epochs + 1):\n",
        "    with tf.GradientTape() as t:  # Record operations for automatic differentiation\n",
        "      logits = cora_gnn(fts, adj)\n",
        "      loss = masked_softmax_cross_entropy(logits, labels, train_mask)\n",
        "\n",
        "      variables = t.watched_variables()\n",
        "      grads = t.gradient(loss, variables)\n",
        "      optimizer.apply_gradients(zip(grads, variables))\n",
        "\n",
        "      logits = cora_gnn(fts, adj)\n",
        "      val_accuracy = masked_accuracy(logits, labels, val_mask)\n",
        "      test_accuracy = masked_accuracy(logits, labels, test_mask)\n",
        "\n",
        "      if val_accuracy > best_accuracy:\n",
        "        best_accuracy = val_accuracy\n",
        "        print('Epoch', ep, '| Training loss:', loss.numpy(), '| Val accuracy:',\n",
        "              val_accuracy.numpy(), '| Test accuracy:', test_accuracy.numpy())"
      ],
      "execution_count": 7,
      "outputs": []
    },
    {
      "cell_type": "code",
      "metadata": {
        "colab": {
          "base_uri": "https://localhost:8080/"
        },
        "id": "m911On99AlWs",
        "outputId": "11bbf049-09e6-430a-c6c0-e5c0221bf143"
      },
      "source": [
        "train_cora(features, adj, gnn, 32, 200, 0.01)"
      ],
      "execution_count": 36,
      "outputs": [
        {
          "output_type": "stream",
          "name": "stdout",
          "text": [
            "Epoch 0 | Training loss: 4.3847504 | Val accuracy: 0.258 | Test accuracy: 0.26999998\n",
            "Epoch 1 | Training loss: 2.419186 | Val accuracy: 0.42799997 | Test accuracy: 0.44299996\n",
            "Epoch 2 | Training loss: 1.5790448 | Val accuracy: 0.52199996 | Test accuracy: 0.509\n",
            "Epoch 4 | Training loss: 1.480004 | Val accuracy: 0.58599997 | Test accuracy: 0.602\n",
            "Epoch 5 | Training loss: 0.4735535 | Val accuracy: 0.634 | Test accuracy: 0.63\n",
            "Epoch 6 | Training loss: 0.43012133 | Val accuracy: 0.66800004 | Test accuracy: 0.681\n",
            "Epoch 7 | Training loss: 0.44025835 | Val accuracy: 0.67599994 | Test accuracy: 0.714\n",
            "Epoch 8 | Training loss: 0.26851663 | Val accuracy: 0.698 | Test accuracy: 0.726\n",
            "Epoch 9 | Training loss: 0.20283346 | Val accuracy: 0.71199995 | Test accuracy: 0.73\n",
            "Epoch 10 | Training loss: 0.15673612 | Val accuracy: 0.722 | Test accuracy: 0.737\n"
          ]
        }
      ]
    },
    {
      "cell_type": "code",
      "metadata": {
        "colab": {
          "base_uri": "https://localhost:8080/"
        },
        "id": "VZ4uAL3jDbXA",
        "outputId": "0a36ae37-6fcb-4f57-d004-297ce207723c"
      },
      "source": [
        "train_cora(features, tf.eye(adj.shape[0]), gnn, 32, 200, 0.01)"
      ],
      "execution_count": 9,
      "outputs": [
        {
          "output_type": "stream",
          "name": "stdout",
          "text": [
            "Epoch 0 | Training loss: 1.9511968 | Val accuracy: 0.144 | Test accuracy: 0.14999999\n",
            "Epoch 1 | Training loss: 1.8092537 | Val accuracy: 0.16799998 | Test accuracy: 0.18899998\n",
            "Epoch 2 | Training loss: 1.6694698 | Val accuracy: 0.18399999 | Test accuracy: 0.20899998\n",
            "Epoch 3 | Training loss: 1.5264202 | Val accuracy: 0.20999998 | Test accuracy: 0.22699998\n",
            "Epoch 4 | Training loss: 1.3784618 | Val accuracy: 0.23199996 | Test accuracy: 0.265\n",
            "Epoch 5 | Training loss: 1.2359295 | Val accuracy: 0.26399997 | Test accuracy: 0.294\n",
            "Epoch 6 | Training loss: 1.1021346 | Val accuracy: 0.28599995 | Test accuracy: 0.31999996\n",
            "Epoch 7 | Training loss: 0.9778144 | Val accuracy: 0.324 | Test accuracy: 0.342\n",
            "Epoch 8 | Training loss: 0.86438 | Val accuracy: 0.35399997 | Test accuracy: 0.36699995\n",
            "Epoch 9 | Training loss: 0.76459 | Val accuracy: 0.376 | Test accuracy: 0.38899994\n",
            "Epoch 10 | Training loss: 0.6762422 | Val accuracy: 0.39999998 | Test accuracy: 0.408\n",
            "Epoch 11 | Training loss: 0.5975513 | Val accuracy: 0.408 | Test accuracy: 0.429\n",
            "Epoch 12 | Training loss: 0.531114 | Val accuracy: 0.434 | Test accuracy: 0.44599992\n",
            "Epoch 13 | Training loss: 0.47055265 | Val accuracy: 0.438 | Test accuracy: 0.45499995\n",
            "Epoch 14 | Training loss: 0.4182419 | Val accuracy: 0.454 | Test accuracy: 0.47099996\n",
            "Epoch 15 | Training loss: 0.36259595 | Val accuracy: 0.478 | Test accuracy: 0.48599997\n",
            "Epoch 16 | Training loss: 0.30587432 | Val accuracy: 0.498 | Test accuracy: 0.50299996\n",
            "Epoch 17 | Training loss: 0.24933134 | Val accuracy: 0.52199996 | Test accuracy: 0.51399994\n",
            "Epoch 18 | Training loss: 0.19654292 | Val accuracy: 0.538 | Test accuracy: 0.53499997\n",
            "Epoch 19 | Training loss: 0.14760463 | Val accuracy: 0.566 | Test accuracy: 0.53999996\n",
            "Epoch 20 | Training loss: 0.10868965 | Val accuracy: 0.57 | Test accuracy: 0.53299993\n"
          ]
        }
      ]
    }
  ]
}